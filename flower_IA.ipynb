{
 "cells": [
  {
   "cell_type": "code",
   "execution_count": 1,
   "metadata": {},
   "outputs": [],
   "source": [
    "import matplotlib.pyplot as plt\n",
    "import sklearn as sk\n",
    "from sklearn.datasets import load_iris\n",
    "import torch"
   ]
  },
  {
   "cell_type": "markdown",
   "metadata": {},
   "source": [
    "### Creating a neural network:"
   ]
  },
  {
   "cell_type": "code",
   "execution_count": 2,
   "metadata": {},
   "outputs": [],
   "source": [
    "class Model(torch.nn.Module):\n",
    "    def __init__(self, in_features=4, neuron_layer1=8, neuron_layer2=8, out_features=3):\n",
    "        super().__init__()\n",
    "        self.step1 = torch.nn.Linear(in_features, neuron_layer1)\n",
    "        self.step2 = torch.nn.Linear(neuron_layer1, neuron_layer2)\n",
    "        self.output = torch.nn.Linear(neuron_layer2, out_features)\n",
    "        \n",
    "    def forward(self, x):\n",
    "        x = torch.nn.functional.relu(self.step1(x))\n",
    "        x = torch.nn.functional.relu(self.step2(x))\n",
    "        logit = self.output(x)\n",
    "        \n",
    "        return logit"
   ]
  },
  {
   "cell_type": "markdown",
   "metadata": {},
   "source": [
    "### Defining a seed and creating an instance:"
   ]
  },
  {
   "cell_type": "code",
   "execution_count": 3,
   "metadata": {},
   "outputs": [],
   "source": [
    "torch.manual_seed(33)\n",
    "model = Model()"
   ]
  },
  {
   "cell_type": "markdown",
   "metadata": {},
   "source": [
    "### Preparing the data:"
   ]
  },
  {
   "cell_type": "code",
   "execution_count": 4,
   "metadata": {},
   "outputs": [],
   "source": [
    "x, y = load_iris(as_frame=True, return_X_y=True)\n",
    "\n",
    "x_train, x_test, y_train, y_test = sk.model_selection.train_test_split(x.values, y.values, test_size=0.2, random_state=33)\n",
    "\n",
    "x_train = torch.FloatTensor(x_train)\n",
    "x_test = torch.FloatTensor(x_test)\n",
    "\n",
    "y_train = torch.LongTensor(y_train)\n",
    "y_test = torch.LongTensor(y_test)"
   ]
  },
  {
   "cell_type": "markdown",
   "metadata": {},
   "source": [
    "### Setting the optmizer"
   ]
  },
  {
   "cell_type": "code",
   "execution_count": 5,
   "metadata": {},
   "outputs": [],
   "source": [
    "loss = torch.nn.CrossEntropyLoss()\n",
    "\n",
    "optimizer = torch.optim.Adam(model.parameters(), lr=0.01)"
   ]
  },
  {
   "cell_type": "markdown",
   "metadata": {},
   "source": [
    "### Training the model:"
   ]
  },
  {
   "cell_type": "code",
   "execution_count": 6,
   "metadata": {},
   "outputs": [
    {
     "name": "stdout",
     "output_type": "stream",
     "text": [
      "Epoch: 0 \t Error rate: 1.232382893562317\n",
      "Epoch: 10 \t Error rate: 1.0233701467514038\n",
      "Epoch: 20 \t Error rate: 0.7572022676467896\n",
      "Epoch: 30 \t Error rate: 0.48167601227760315\n",
      "Epoch: 40 \t Error rate: 0.33288100361824036\n",
      "Epoch: 50 \t Error rate: 0.2140192836523056\n",
      "Epoch: 60 \t Error rate: 0.13153988122940063\n",
      "Epoch: 70 \t Error rate: 0.09171650558710098\n",
      "Epoch: 80 \t Error rate: 0.07476557791233063\n",
      "Epoch: 90 \t Error rate: 0.06648612767457962\n"
     ]
    }
   ],
   "source": [
    "epochs = 100\n",
    "\n",
    "errors = []\n",
    "\n",
    "for i in range(epochs):\n",
    "    y_prediction = model.forward(x_train)\n",
    "    \n",
    "    error = loss(y_prediction, y_train)\n",
    "    errors.append(error.detach().numpy())\n",
    "    \n",
    "    if i % 10 == 0:\n",
    "        print(f'Epoch: {i} \\t Error rate: {error}')\n",
    "    \n",
    "    optimizer.zero_grad()\n",
    "    error.backward()\n",
    "    optimizer.step()"
   ]
  },
  {
   "cell_type": "markdown",
   "metadata": {},
   "source": [
    "### Visualizing the results:"
   ]
  },
  {
   "cell_type": "code",
   "execution_count": 7,
   "metadata": {},
   "outputs": [
    {
     "data": {
      "text/plain": [
       "Text(0, 0.5, 'Error Rate')"
      ]
     },
     "execution_count": 7,
     "metadata": {},
     "output_type": "execute_result"
    },
    {
     "data": {
      "image/png": "[encoded data removed]",
      "text/plain": [
       "<Figure size 640x480 with 1 Axes>"
      ]
     },
     "metadata": {},
     "output_type": "display_data"
    }
   ],
   "source": [
    "plt.plot(range(epochs), errors)\n",
    "plt.xlabel('Epochs')\n",
    "plt.ylabel('Error Rate')"
   ]
  },
  {
   "cell_type": "markdown",
   "metadata": {},
   "source": [
    "### Validation of the training"
   ]
  },
  {
   "cell_type": "code",
   "execution_count": 8,
   "metadata": {},
   "outputs": [
    {
     "name": "stdout",
     "output_type": "stream",
     "text": [
      "Error rate without gradient reajust: 0.06636950373649597\n"
     ]
    }
   ],
   "source": [
    "with torch.no_grad():\n",
    "    y_validation = model.forward(x_test)\n",
    "    error = loss(y_validation, y_test)\n",
    "    \n",
    "print(f'Error rate without gradient reajust: {error}')"
   ]
  },
  {
   "cell_type": "markdown",
   "metadata": {},
   "source": [
    "### Final results:"
   ]
  },
  {
   "cell_type": "code",
   "execution_count": 9,
   "metadata": {},
   "outputs": [
    {
     "name": "stdout",
     "output_type": "stream",
     "text": [
      "IA answer: Versicolor \t Real answer: Versicolor\n",
      "IA answer: Versicolor \t Real answer: Versicolor\n",
      "IA answer: Setosa \t Real answer: Setosa\n",
      "IA answer: Versicolor \t Real answer: Versicolor\n",
      "IA answer: Virginica \t Real answer: Virginica\n",
      "IA answer: Virginica \t Real answer: Virginica\n",
      "IA answer: Setosa \t Real answer: Setosa\n",
      "IA answer: Setosa \t Real answer: Setosa\n",
      "IA answer: Virginica \t Real answer: Virginica\n",
      "IA answer: Virginica \t Real answer: Virginica\n",
      "IA answer: Virginica \t Real answer: Virginica\n",
      "IA answer: Setosa \t Real answer: Setosa\n",
      "IA answer: Virginica \t Real answer: Virginica\n",
      "IA answer: Versicolor \t Real answer: Versicolor\n",
      "IA answer: Virginica \t Real answer: Virginica\n",
      "IA answer: Versicolor \t Real answer: Versicolor\n",
      "IA answer: Versicolor \t Real answer: Virginica\n",
      "IA answer: Setosa \t Real answer: Setosa\n",
      "IA answer: Versicolor \t Real answer: Versicolor\n",
      "IA answer: Virginica \t Real answer: Virginica\n",
      "IA answer: Setosa \t Real answer: Setosa\n",
      "IA answer: Setosa \t Real answer: Setosa\n",
      "IA answer: Virginica \t Real answer: Virginica\n",
      "IA answer: Setosa \t Real answer: Setosa\n",
      "IA answer: Virginica \t Real answer: Virginica\n",
      "IA answer: Virginica \t Real answer: Virginica\n",
      "IA answer: Versicolor \t Real answer: Versicolor\n",
      "IA answer: Versicolor \t Real answer: Versicolor\n",
      "IA answer: Virginica \t Real answer: Virginica\n",
      "IA answer: Virginica \t Real answer: Virginica\n",
      "\n",
      "Right: 29 \t Wrong: 1\n"
     ]
    }
   ],
   "source": [
    "def iris_type(y):\n",
    "    match y:\n",
    "        case 0:\n",
    "            y = 'Setosa'\n",
    "            \n",
    "        case 1:\n",
    "            y = 'Versicolor'\n",
    "            \n",
    "        case 2:\n",
    "            y = 'Virginica'\n",
    "    return y\n",
    "\n",
    "with torch.no_grad():\n",
    "    right = 0\n",
    "    wrong = 0\n",
    "    \n",
    "    for i, input_data in enumerate(x_test):\n",
    "        y_guess = model.forward(input_data)\n",
    "        y_guess = y_guess.argmax().item()\n",
    "        \n",
    "        print(f'IA answer: {iris_type(y_guess)} \\t Real answer: {iris_type(y_test[i])}')\n",
    "        \n",
    "        if y_guess == y_test[i]:\n",
    "            right += 1\n",
    "        else:\n",
    "            wrong += 1\n",
    "\n",
    "print(f'\\nRight: {right} \\t Wrong: {wrong}')"
   ]
  }
 ],
 "metadata": {
  "kernelspec": {
   "display_name": "Python 3",
   "language": "python",
   "name": "python3"
  },
  "language_info": {
   "codemirror_mode": {
    "name": "ipython",
    "version": 3
   },
   "file_extension": ".py",
   "mimetype": "text/x-python",
   "name": "python",
   "nbconvert_exporter": "python",
   "pygments_lexer": "ipython3",
   "version": "3.10.11"
  }
 },
 "nbformat": 4,
 "nbformat_minor": 2
}
